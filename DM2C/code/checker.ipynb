{
 "cells": [
  {
   "cell_type": "code",
   "execution_count": 1,
   "id": "initial_id",
   "metadata": {
    "collapsed": true,
    "ExecuteTime": {
     "end_time": "2024-06-08T06:27:09.808798500Z",
     "start_time": "2024-06-08T06:26:59.023224800Z"
    }
   },
   "outputs": [],
   "source": [
    "import scipy.io\n",
    "import anndata as ad"
   ]
  },
  {
   "cell_type": "code",
   "execution_count": 2,
   "outputs": [],
   "source": [
    "mat = scipy.io.loadmat('data/nuswide/train_img.mat')"
   ],
   "metadata": {
    "collapsed": false,
    "ExecuteTime": {
     "end_time": "2024-06-08T06:27:09.905960400Z",
     "start_time": "2024-06-08T06:27:09.808798500Z"
    }
   },
   "id": "9fd683dce6edf30f"
  },
  {
   "cell_type": "code",
   "execution_count": 9,
   "outputs": [
    {
     "data": {
      "text/plain": "array([[0]], dtype=int64)"
     },
     "execution_count": 9,
     "metadata": {},
     "output_type": "execute_result"
    }
   ],
   "source": [
    "mat['X'][6][1]"
   ],
   "metadata": {
    "collapsed": false,
    "ExecuteTime": {
     "end_time": "2024-06-08T07:21:24.330172400Z",
     "start_time": "2024-06-08T07:21:24.326582700Z"
    }
   },
   "id": "39576f2f9c8e4f6a"
  },
  {
   "cell_type": "code",
   "execution_count": 2,
   "outputs": [
    {
     "name": "stderr",
     "output_type": "stream",
     "text": [
      "C:\\Users\\Rebeka\\anaconda3\\envs\\masterpraktikum\\Lib\\site-packages\\anndata\\_core\\anndata.py:1818: UserWarning: Observation names are not unique. To make them unique, call `.obs_names_make_unique`.\n",
      "  utils.warn_names_duplicates(\"obs\")\n"
     ]
    }
   ],
   "source": [
    "data = ad.read_h5ad('../../../CellPLM_repo/data/gse155468.h5ad')\n",
    "data.obs_names_make_unique()"
   ],
   "metadata": {
    "collapsed": false,
    "ExecuteTime": {
     "end_time": "2024-06-07T16:54:44.878347300Z",
     "start_time": "2024-06-07T16:54:39.206635400Z"
    }
   },
   "id": "4b6926cc8e5f0ccc"
  },
  {
   "cell_type": "code",
   "execution_count": 4,
   "outputs": [
    {
     "data": {
      "text/plain": "View of AnnData object with n_obs × n_vars = 1 × 12382\n    obs: 'orig.ident', 'nCount_RNA', 'nFeature_RNA', 'stim', 'integrated_snn_res.0.6', 'seurat_clusters', 'celltype', 'celltype2'"
     },
     "execution_count": 4,
     "metadata": {},
     "output_type": "execute_result"
    }
   ],
   "source": [
    "data[9]"
   ],
   "metadata": {
    "collapsed": false,
    "ExecuteTime": {
     "end_time": "2024-06-07T16:55:22.771143300Z",
     "start_time": "2024-06-07T16:55:22.749117700Z"
    }
   },
   "id": "a326610e170fe82a"
  }
 ],
 "metadata": {
  "kernelspec": {
   "name": "masterpraktikum",
   "language": "python",
   "display_name": "masterpraktikum"
  },
  "language_info": {
   "codemirror_mode": {
    "name": "ipython",
    "version": 2
   },
   "file_extension": ".py",
   "mimetype": "text/x-python",
   "name": "python",
   "nbconvert_exporter": "python",
   "pygments_lexer": "ipython2",
   "version": "2.7.6"
  }
 },
 "nbformat": 4,
 "nbformat_minor": 5
}
