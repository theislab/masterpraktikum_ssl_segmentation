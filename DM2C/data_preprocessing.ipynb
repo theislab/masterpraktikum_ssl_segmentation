{
 "cells": [
  {
   "cell_type": "markdown",
   "source": [
    "# Concatenating of h5ad "
   ],
   "metadata": {
    "collapsed": false
   },
   "id": "2f16cd650d5a0b9e"
  },
  {
   "cell_type": "code",
   "execution_count": 2,
   "outputs": [],
   "source": [
    "import anndata\n",
    "import os"
   ],
   "metadata": {
    "collapsed": false,
    "ExecuteTime": {
     "end_time": "2024-07-01T21:41:56.013616200Z",
     "start_time": "2024-07-01T21:41:50.063256500Z"
    }
   },
   "id": "15cee1906be1b50c"
  },
  {
   "cell_type": "code",
   "execution_count": 4,
   "outputs": [],
   "source": [
    "ad_path = 'code/data/Toy/'\n",
    "ad_files = os.listdir(ad_path)"
   ],
   "metadata": {
    "collapsed": false,
    "ExecuteTime": {
     "end_time": "2024-07-01T21:42:03.983165800Z",
     "start_time": "2024-07-01T21:42:03.976345Z"
    }
   },
   "id": "e2a6a299bedb4096"
  },
  {
   "cell_type": "code",
   "execution_count": 20,
   "outputs": [],
   "source": [
    "ad_objects = []\n",
    "for file in ad_files:\n",
    "    path = os.path.join(ad_path, file)\n",
    "    object = anndata.read_h5ad(path)\n",
    "    if 'AML' in path:\n",
    "        object.obs['ID'] = 'AML'\n",
    "    else: object.obs['ID'] = 'BM'\n",
    "    ad_objects.append(object)"
   ],
   "metadata": {
    "collapsed": false,
    "ExecuteTime": {
     "end_time": "2024-07-01T18:45:37.962013400Z",
     "start_time": "2024-07-01T18:45:37.744647200Z"
    }
   },
   "id": "4e488f1c609a3d48"
  },
  {
   "cell_type": "code",
   "execution_count": 21,
   "outputs": [
    {
     "name": "stderr",
     "output_type": "stream",
     "text": [
      "C:\\Users\\Rebeka\\anaconda3\\envs\\masterpraktikum\\Lib\\site-packages\\anndata\\_core\\merge.py:1279: FutureWarning: The behavior of DataFrame concatenation with empty or all-NA entries is deprecated. In a future version, this will no longer exclude empty or all-NA columns when determining the result dtypes. To retain the old behavior, exclude the relevant entries before the concat operation.\n",
      "  concat_annot = pd.concat(\n"
     ]
    }
   ],
   "source": [
    "concat = anndata.concat(ad_objects)"
   ],
   "metadata": {
    "collapsed": false,
    "ExecuteTime": {
     "end_time": "2024-07-01T18:45:52.114571800Z",
     "start_time": "2024-07-01T18:45:51.992983300Z"
    }
   },
   "id": "db188e034d50be51"
  },
  {
   "cell_type": "code",
   "execution_count": 27,
   "outputs": [],
   "source": [
    "concat.write_h5ad(os.path.join(ad_path, 'concatenated.h5ad'))"
   ],
   "metadata": {
    "collapsed": false,
    "ExecuteTime": {
     "end_time": "2024-07-01T18:52:11.769669300Z",
     "start_time": "2024-07-01T18:52:10.374693300Z"
    }
   },
   "id": "46d940143aa7de38"
  }
 ],
 "metadata": {
  "kernelspec": {
   "name": "masterpraktikum",
   "language": "python",
   "display_name": "masterpraktikum"
  },
  "language_info": {
   "codemirror_mode": {
    "name": "ipython",
    "version": 2
   },
   "file_extension": ".py",
   "mimetype": "text/x-python",
   "name": "python",
   "nbconvert_exporter": "python",
   "pygments_lexer": "ipython2",
   "version": "2.7.6"
  }
 },
 "nbformat": 4,
 "nbformat_minor": 5
}
